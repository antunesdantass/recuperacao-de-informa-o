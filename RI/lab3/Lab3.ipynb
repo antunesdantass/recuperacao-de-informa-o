{
 "cells": [
  {
   "cell_type": "markdown",
   "metadata": {},
   "source": [
    "Autor: Antunes Dantas da Silva"
   ]
  },
  {
   "cell_type": "markdown",
   "metadata": {},
   "source": [
    "A ideia deste lab é criar uma aplicação onde vamos passar o id de um usuário e o sistema retornará quais os filmes indicados para ele. O código da aplicação está abaixo, é bem simples. Foi utilizado o Surprise como framework de criação do sistema de recomendação. A idéia foi treinar com as notas dadas pelos usuários e sugerir filmes para um usuário baseado na escolha de usuários parecidos com isso.\n",
    "\n",
    "Para isso, utilizamos o KNN como algoritmo de predição. O RMSE da predição pode ser visto no final do bloco de código.\n",
    "\n",
    "Para testar a aplicação, basta entrar no link a seguir que contém um exemplo onde você diz um usuário e o sistema diz quais filmes são indicados para ele."
   ]
  },
  {
   "cell_type": "code",
   "execution_count": 2,
   "metadata": {},
   "outputs": [
    {
     "name": "stdout",
     "output_type": "stream",
     "text": [
      "Computing the cosine similarity matrix...\n",
      "Done computing similarity matrix.\n",
      "RMSE: 1.0229\n"
     ]
    }
   ],
   "source": [
    "from surprise import KNNBasic, Reader, accuracy\n",
    "from surprise.model_selection import PredefinedKFold\n",
    "from surprise import Dataset\n",
    "import pandas as pd\n",
    "import os\n",
    "import csv\n",
    "\n",
    "# Primeiro, vamos ler os arquivos.\n",
    "\n",
    "items_stream = open('./static/ml-100k/u.item', 'r', encoding=\"ISO-8859-1\")\n",
    "item_data = items_stream.read().split('\\n')\n",
    "item_data = list(map(lambda item: item.split('|')[:2], item_data))\n",
    "items_stream.close()\n",
    "\n",
    "# Depois, vamos criar a coleção de ites e de usuários, além de um dicionário contendo os filmes que\n",
    "# os usuários não assistiram.\n",
    "database = pd.read_csv('./static/ml-100k/u1.base.csv')\n",
    "usuarios = set(database.user_id)\n",
    "filmes = set(database.item_id)\n",
    "filmes_nao_assistidos = {usuario: filmes.difference(database.query('user_id == %s' % (usuario)).item_id) for usuario in usuarios}\n",
    "\n",
    "files_dir = os.path.expanduser('./static/ml-100k/')\n",
    "\n",
    "# Para a geração do recomendados, vamos utilizar os dados built in na biblioteca\n",
    "reader = Reader('ml-100k')\n",
    "\n",
    "# Dividindo os dados em pastas diferentes para uma melhor prediçao\n",
    "train_file = files_dir + 'u%d.base'\n",
    "test_file = files_dir + 'u%d.test'\n",
    "folds_files = [(train_file % i, test_file % i) for i in [1]]\n",
    "\n",
    "data = Dataset.load_from_folds(folds_files, reader=reader)\n",
    "pkf = PredefinedKFold()\n",
    "\n",
    "sim_options = {\n",
    "    'name': 'cosine', # distancia do cosseno\n",
    "    'user_based': True  # similiridade entre os usuarios\n",
    "}\n",
    "\n",
    "algo = KNNBasic(sim_options=sim_options)\n",
    "\n",
    "for trainset, testset in pkf.split(data):\n",
    "\n",
    "    # train and test algorithm.\n",
    "    algo.fit(trainset)\n",
    "    predictions_knn = algo.test(testset)\n",
    "    rmse_knn = accuracy.rmse(predictions_knn)\n",
    "\n",
    "\n",
    "mapa_de_filmes = {}\n",
    "\n",
    "with open(\"./static/ml-100k/u.item\", encoding=\"ISO-8859-1\") as tsv:\n",
    "    for line in csv.reader(tsv, dialect=\"excel-tab\"):\n",
    "        linha = line[0].split('|')\n",
    "        mapa_de_filmes[linha[0]] = linha[1]\n",
    "\n",
    "def get_top_5_movies(userId):\n",
    "    filmes = filmes_nao_assistidos[int(userId)]\n",
    "    predicoes = [(filme, algo.predict(uid=userId, iid=str(filme)).est) for filme in filmes]\n",
    "    top_5 = sorted(predicoes, key=lambda item: item[1], reverse=True)[:5]\n",
    "    top_5 = [mapa_de_filmes[str(filme[0])] for filme in top_5]\n",
    "\n",
    "    return top_5\n",
    "\n",
    "def get_k_nearest_neighbors(userId):\n",
    "    # Retrieve inner id of the user\n",
    "    inner_id = algo.trainset.to_inner_uid(userId)\n",
    "\n",
    "    # Retrieve inner ids of the nearest neighbors of the requested user\n",
    "    user_neighbors = algo.get_neighbors(inner_id, k=3)\n",
    "\n",
    "    # Convert inner ids to raw ids\n",
    "    neighbors = (algo.trainset.to_raw_uid(inner_id)\n",
    "                           for inner_id in user_neighbors)\n",
    "    neigbhors_list = [id for id in neighbors]\n",
    "    return neigbhors_list\n",
    "\n",
    "def getRecommendations(uid):\n",
    "    movies = get_top_5_movies(uid)\n",
    "    neighbours = get_k_nearest_neighbors(str(uid))\n",
    "    return {\n",
    "        'movies': movies,\n",
    "        'neighbours': neighbours\n",
    "    }"
   ]
  }
 ],
 "metadata": {
  "kernelspec": {
   "display_name": "Python 3",
   "language": "python",
   "name": "python3"
  },
  "language_info": {
   "codemirror_mode": {
    "name": "ipython",
    "version": 3
   },
   "file_extension": ".py",
   "mimetype": "text/x-python",
   "name": "python",
   "nbconvert_exporter": "python",
   "pygments_lexer": "ipython3",
   "version": "3.6.5"
  }
 },
 "nbformat": 4,
 "nbformat_minor": 2
}
