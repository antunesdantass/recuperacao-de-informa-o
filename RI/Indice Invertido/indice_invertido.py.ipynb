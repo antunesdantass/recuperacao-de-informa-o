{
 "cells": [
  {
   "cell_type": "code",
   "execution_count": 7,
   "metadata": {
    "scrolled": true
   },
   "outputs": [
    {
     "name": "stdout",
     "output_type": "stream",
     "text": [
      "[1068, 1370, 1770, 1952, 1952, 1952, 1987, 2779, 4802, 4802, 5870, 6694]\n"
     ]
    }
   ],
   "source": [
    "import pandas as pandas\n",
    "\n",
    "NOME_DO_ARQUIVO = 'noticias_estadao.csv'\n",
    "indice_invertido = {}\n",
    "\n",
    "# olhar a biblioteca nltk\n",
    "\n",
    "dados = pandas.read_csv(NOME_DO_ARQUIVO)\n",
    "for i in range(dados.titulo.size):\n",
    "    texto = dados.titulo[i] + \" \" + dados.conteudo[i]\n",
    "    palavras_divididas = texto.split(\" \")\n",
    "    for palavra in palavras_divididas:\n",
    "        if palavra.lower() not in indice_invertido:\n",
    "            indice_invertido[palavra.lower()] = [dados.idNoticia[i]]\n",
    "        else:\n",
    "            indice_invertido[palavra.lower()].append(dados.idNoticia[i])\n",
    "\n",
    "def intersection(lst1, lst2):\n",
    "    lst3 = [value for value in lst1 if value in lst2]\n",
    "    return lst3\n",
    "\n",
    "campina = indice_invertido[\"Campina\".lower()]\n",
    "grande = indice_invertido[\"Grande\".lower()]\n",
    "\n",
    "intersecao = intersection(campina, grande)\n",
    "print(intersecao)"
   ]
  },
  {
   "cell_type": "code",
   "execution_count": null,
   "metadata": {
    "collapsed": true
   },
   "outputs": [],
   "source": []
  }
 ],
 "metadata": {
  "kernelspec": {
   "display_name": "Python 3",
   "language": "python",
   "name": "python3"
  },
  "language_info": {
   "codemirror_mode": {
    "name": "ipython",
    "version": 3
   },
   "file_extension": ".py",
   "mimetype": "text/x-python",
   "name": "python",
   "nbconvert_exporter": "python",
   "pygments_lexer": "ipython3",
   "version": "3.6.2"
  }
 },
 "nbformat": 4,
 "nbformat_minor": 2
}
