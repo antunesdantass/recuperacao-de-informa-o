{
 "cells": [
  {
   "cell_type": "code",
   "execution_count": 1,
   "metadata": {},
   "outputs": [],
   "source": [
    "import pandas as pandas\n",
    "import nltk\n",
    "from functools import reduce\n",
    "\n",
    "NOME_DO_ARQUIVO = 'noticias_estadao.csv'\n",
    "indice_invertido = {}"
   ]
  },
  {
   "cell_type": "markdown",
   "metadata": {},
   "source": [
    "A função que gera o índice usa a biblioteca Pandas para gerar um dataset com os dados do CSV. Através desse dataset, é feita uma leitura linha por linha. Fazendo uso da bibliteca NLTK, quebra-se os textos (titulo e descricao) em tokens, onde este token é adicionado como chave do indíce invertido e o valor deste índice é o id dos documentos que contém aquele termo."
   ]
  },
  {
   "cell_type": "code",
   "execution_count": 2,
   "metadata": {},
   "outputs": [],
   "source": [
    "def geraIndice():\n",
    "    dados = pandas.read_csv(NOME_DO_ARQUIVO)\n",
    "    for i in range(dados.titulo.size):\n",
    "        texto = dados.titulo[i] + \" \" + dados.conteudo[i]\n",
    "        palavras_divididas = nltk.word_tokenize(texto)\n",
    "        for palavra in palavras_divididas:\n",
    "            palavra = palavra.lower()\n",
    "            if palavra not in indice_invertido:\n",
    "                indice_invertido[palavra] = set([dados.idNoticia[i]])\n",
    "            else:\n",
    "                indice_invertido[palavra].add(dados.idNoticia[i])"
   ]
  },
  {
   "cell_type": "markdown",
   "metadata": {},
   "source": [
    "A busca AND funciona através da leitura de uma lista de termos que deseja-se consultar. O resultado é uma lista de ids dos documentos que contém todos os termos buscados."
   ]
  },
  {
   "cell_type": "code",
   "execution_count": 3,
   "metadata": {},
   "outputs": [],
   "source": [
    "def busca_and(termos):\n",
    "    resultado = reduce((lambda x,y: indice_invertido[x] & indice_invertido[y]), termos)\n",
    "    return list(resultado)"
   ]
  },
  {
   "cell_type": "markdown",
   "metadata": {},
   "source": [
    "Já a busca OR funciona retornando a união dos índices dos documentos que possuem os termos buscados, mas não necessariamente todos no mesmo texto."
   ]
  },
  {
   "cell_type": "code",
   "execution_count": 4,
   "metadata": {},
   "outputs": [],
   "source": [
    "def busca_or(termos):\n",
    "    resultado = reduce((lambda x,y: indice_invertido[x].union(indice_invertido[y])), termos)\n",
    "    return list(resultado)"
   ]
  },
  {
   "cell_type": "markdown",
   "metadata": {},
   "source": [
    "A maneira do usuário interagir e realizar buscar é digitando os termos que deseja buscar e, em seguida, escolhendo o tipo de pesquisa que deseja realizar. É impresso, então, a lista de documentos correspondentes à busca."
   ]
  },
  {
   "cell_type": "code",
   "execution_count": 5,
   "metadata": {},
   "outputs": [],
   "source": [
    "def read_input():\n",
    "    print(\"Digite os termos que você deseja pesquisar, separados por espaço\\n\")\n",
    "    termos = str(input()).split()\n",
    "    print(\"Digite o número da operação desejada:\\n1. AND\\n2. OR\")\n",
    "    operador = int(input())\n",
    "    if operador == 1:\n",
    "        print(busca_and(termos))\n",
    "    else:\n",
    "        print(busca_or(termos))\n",
    " "
   ]
  },
  {
   "cell_type": "code",
   "execution_count": 6,
   "metadata": {},
   "outputs": [],
   "source": [
    "   \n",
    "def testes():\n",
    "    assert len(busca_or([\"debate\", \"presidencial\"])) == 1770\n",
    "    assert len(busca_and([\"debate\", \"presidencial\"])) == 201\n",
    "    assert len(busca_or([\"presidenciáveis\", \"corruptos\"])) == 164\n",
    "    assert len(busca_and([\"presidenciáveis\", \"corruptos\"])) == 0\n",
    "    assert len(busca_and([\"belo\", \"horizonte\"])) == 242\n",
    "    assert len(busca_or([\"belo\", \"horizonte\"])) == 331\n",
    "  "
   ]
  },
  {
   "cell_type": "code",
   "execution_count": 7,
   "metadata": {},
   "outputs": [],
   "source": [
    "geraIndice()"
   ]
  },
  {
   "cell_type": "code",
   "execution_count": 8,
   "metadata": {},
   "outputs": [],
   "source": [
    "testes()"
   ]
  },
  {
   "cell_type": "code",
   "execution_count": 9,
   "metadata": {
    "scrolled": false
   },
   "outputs": [
    {
     "name": "stdout",
     "output_type": "stream",
     "text": [
      "Digite os termos que você deseja pesquisar, separados por espaço\n",
      "\n",
      "campina grande\n",
      "Digite o número da operação desejada:\n",
      "1. AND\n",
      "2. OR\n",
      "1\n",
      "[1952, 4802, 1987, 6694, 5382, 1770, 2763, 1068, 5870, 2777, 1370, 2779]\n"
     ]
    }
   ],
   "source": [
    "read_input()"
   ]
  }
 ],
 "metadata": {
  "kernelspec": {
   "display_name": "Python 3",
   "language": "python",
   "name": "python3"
  },
  "language_info": {
   "codemirror_mode": {
    "name": "ipython",
    "version": 3
   },
   "file_extension": ".py",
   "mimetype": "text/x-python",
   "name": "python",
   "nbconvert_exporter": "python",
   "pygments_lexer": "ipython3",
   "version": "3.6.5"
  }
 },
 "nbformat": 4,
 "nbformat_minor": 2
}
