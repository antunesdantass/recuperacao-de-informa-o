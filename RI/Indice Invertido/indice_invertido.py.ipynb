{
 "cells": [
  {
   "cell_type": "code",
   "execution_count": 18,
   "metadata": {
    "scrolled": false
   },
   "outputs": [
    {
     "name": "stdout",
     "output_type": "stream",
     "text": [
      "[nltk_data] Downloading package punkt to /home/antunesdds/nltk_data...\n",
      "[nltk_data]   Package punkt is already up-to-date!\n",
      "Digite os termos que você deseja pesquisar, separados por vírgula\n",
      "\n",
      "campina grande\n",
      "Qual a operação desejada? \n",
      "1. AND\n",
      "2. OR\n",
      "1\n"
     ]
    }
   ],
   "source": [
    "import pandas as pandas\n",
    "import nltk\n",
    "nltk.download('punkt')\n",
    "\n",
    "NOME_DO_ARQUIVO = 'noticias_estadao.csv'\n",
    "indice_invertido = {}\n",
    "\n",
    "# olhar a biblioteca nltk\n",
    "\n",
    "def palavraIsValida(palavra):\n",
    "    return palavra != \" \" and palavra != \",\" and palavra != \".\"\n",
    "\n",
    "def geraIndice():\n",
    "    dados = pandas.read_csv(NOME_DO_ARQUIVO)\n",
    "    for i in range(dados.titulo.size):\n",
    "\n",
    "        texto = dados.titulo[i] + \" \" + dados.conteudo[i]\n",
    "        palavras_divididas = nltk.word_tokenize(texto)\n",
    "        for palavra in palavras_divididas:\n",
    "            palavra = palavra.lower()\n",
    "            if palavraIsValida(palavra):\n",
    "                if palavra not in indice_invertido:\n",
    "                    indice_invertido[palavra] = set([dados.idNoticia[i]])\n",
    "                else:\n",
    "                    indice_invertido[palavra].add(dados.idNoticia[i])\n",
    "\n",
    "def busca_and(termo1, termo2):\n",
    "    ocorr_termo1 = indice_invertido[termo1]\n",
    "    ocorr_termo2 = indice_invertido[termo2]\n",
    "    \n",
    "    return list(ocorr_termo1 & ocorr_termo2)\n",
    "\n",
    "def busca_or(termo1, termo2):\n",
    "    lista1 = indice_invertido[termo1]\n",
    "    lista2 = indice_invertido[termo2]\n",
    "    \n",
    "    return list(lista1.union(lista2))\n",
    "\n",
    "def busca_and_recursiva():\n",
    "    return None\n",
    "\n",
    "def read_input():\n",
    "    print(\"Digite os termos que você deseja pesquisar, separados por vírgula\\n\")\n",
    "    termos = (str(input())).split()\n",
    "    print(\"Qual a operação desejada? \\n1. AND\\n2. OR\")\n",
    "    operador = int(input())\n",
    "    \n",
    "if __name__ == \"__main__\":\n",
    "    geraIndice()\n",
    "    read_input()"
   ]
  },
  {
   "cell_type": "code",
   "execution_count": 29,
   "metadata": {},
   "outputs": [
    {
     "data": {
      "text/plain": [
       "{1036, 1068, 1370, 1770, 1952, 1987, 2763, 2777, 2779, 4802, 5382, 5870, 6694}"
      ]
     },
     "execution_count": 29,
     "metadata": {},
     "output_type": "execute_result"
    }
   ],
   "source": [
    "(indice_invertido['campina'])"
   ]
  },
  {
   "cell_type": "code",
   "execution_count": 27,
   "metadata": {},
   "outputs": [
    {
     "data": {
      "text/plain": [
       "{755}"
      ]
     },
     "execution_count": 27,
     "metadata": {},
     "output_type": "execute_result"
    }
   ],
   "source": [
    "(indice_invertido['grande.'])"
   ]
  },
  {
   "cell_type": "code",
   "execution_count": null,
   "metadata": {
    "collapsed": true
   },
   "outputs": [],
   "source": []
  }
 ],
 "metadata": {
  "kernelspec": {
   "display_name": "Python 3",
   "language": "python",
   "name": "python3"
  },
  "language_info": {
   "codemirror_mode": {
    "name": "ipython",
    "version": 3
   },
   "file_extension": ".py",
   "mimetype": "text/x-python",
   "name": "python",
   "nbconvert_exporter": "python",
   "pygments_lexer": "ipython3",
   "version": "3.6.2"
  }
 },
 "nbformat": 4,
 "nbformat_minor": 2
}
