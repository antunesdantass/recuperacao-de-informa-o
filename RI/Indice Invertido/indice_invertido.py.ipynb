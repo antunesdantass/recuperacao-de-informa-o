{
 "cells": [
  {
   "cell_type": "code",
   "execution_count": 6,
   "metadata": {
    "scrolled": false
   },
   "outputs": [
    {
     "name": "stdout",
     "output_type": "stream",
     "text": [
      "[nltk_data] Downloading package punkt to\n",
      "[nltk_data]     /Users/antunesdantas/nltk_data...\n",
      "[nltk_data]   Package punkt is already up-to-date!\n",
      "{1952, 4802, 1987, 5382, 6694, 1770, 2763, 1068, 5870, 2777, 1370, 2779}\n",
      "1655\n",
      "1654\n"
     ]
    }
   ],
   "source": [
    "import pandas as pandas\n",
    "import nltk\n",
    "nltk.download('punkt')\n",
    "\n",
    "NOME_DO_ARQUIVO = 'noticias_estadao.csv'\n",
    "indice_invertido = {}\n",
    "\n",
    "# olhar a biblioteca nltk\n",
    "\n",
    "def intersection(lst1, lst2):\n",
    "    return list(lst1 & lst2)\n",
    "\n",
    "def palavraIsValida(palavra):\n",
    "    return palavra != \" \" and palavra != \",\" and palavra != \".\"\n",
    "\n",
    "dados = pandas.read_csv(NOME_DO_ARQUIVO)\n",
    "for i in range(dados.titulo.size):\n",
    "    \n",
    "    texto = dados.titulo[i] + \" \" + dados.conteudo[i]\n",
    "    palavras_divididas = nltk.word_tokenize(texto)\n",
    "    for palavra in palavras_divididas:\n",
    "        palavra = palavra.lower()\n",
    "        if palavraIsValida(palavra):\n",
    "            if palavra not in indice_invertido:\n",
    "                indice_invertido[palavra] = set([dados.idNoticia[i]])\n",
    "            else:\n",
    "                indice_invertido[palavra].add(dados.idNoticia[i])\n",
    "\n",
    "def busca_and(termo1, termo2):\n",
    "    ocorr_termo1 = indice_invertido[termo1]\n",
    "    ocorr_termo2 = indice_invertido[termo2]\n",
    "    \n",
    "    return ocorr_termo1 & ocorr_termo2\n",
    "\n",
    "def busca_or(termo1, termo2):\n",
    "    lista1 = indice_invertido[termo1]\n",
    "    lista2 = indice_invertido[termo2]\n",
    "    \n",
    "    return len(lista1.union(lista2))\n",
    "\n",
    "print(busca_and(\"campina\", \"grande\"))\n",
    "print(busca_or(\"campina\", \"grande\"))\n",
    "print(len(indice_invertido[\"grande\"]))"
   ]
  },
  {
   "cell_type": "code",
   "execution_count": null,
   "metadata": {},
   "outputs": [],
   "source": []
  },
  {
   "cell_type": "code",
   "execution_count": null,
   "metadata": {},
   "outputs": [],
   "source": []
  }
 ],
 "metadata": {
  "kernelspec": {
   "display_name": "Python 3",
   "language": "python",
   "name": "python3"
  },
  "language_info": {
   "codemirror_mode": {
    "name": "ipython",
    "version": 3
   },
   "file_extension": ".py",
   "mimetype": "text/x-python",
   "name": "python",
   "nbconvert_exporter": "python",
   "pygments_lexer": "ipython3",
   "version": "3.6.5"
  }
 },
 "nbformat": 4,
 "nbformat_minor": 2
}
