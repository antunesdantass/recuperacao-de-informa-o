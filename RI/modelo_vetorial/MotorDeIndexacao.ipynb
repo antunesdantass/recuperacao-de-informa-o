{
 "cells": [
  {
   "cell_type": "code",
   "execution_count": 2,
   "metadata": {
    "collapsed": true
   },
   "outputs": [],
   "source": [
    "import pandas as pd\n",
    "import nltk\n",
    "import numpy as np\n",
    "from functools import reduce\n",
    "import math\n"
   ]
  },
  {
   "cell_type": "code",
   "execution_count": 3,
   "metadata": {
    "collapsed": true
   },
   "outputs": [],
   "source": [
    "NOME_DO_ARQUIVO = 'estadao_noticias_eleicao.csv'\n",
    "indice_invertido = {}\n",
    "dados = pd.read_csv(NOME_DO_ARQUIVO)\n",
    "dados = dados.replace(np.nan, '', regex=True)\n",
    "dados[\"TF\"] = None"
   ]
  },
  {
   "cell_type": "code",
   "execution_count": 36,
   "metadata": {
    "collapsed": true
   },
   "outputs": [],
   "source": [
    "def geraIndice():\n",
    "    for j in range(dados.titulo.size):\n",
    "        i = j + 1\n",
    "        texto = dados.titulo[i] + \" \" + dados.conteudo[i] + \" \" + dados.subTitulo[i]\n",
    "        palavras_divididas = nltk.word_tokenize(texto)\n",
    "        dados.TF[i] = {}\n",
    "        for palavra in palavras_divididas:\n",
    "            palavra = palavra.lower()\n",
    "            if palavra not in indice_invertido:\n",
    "                indice_invertido[palavra] = set([dados.idNoticia[i]])\n",
    "            else:\n",
    "                indice_invertido[palavra].add(dados.idNoticia[i])\n",
    "            if palavra not in dados.TF[i]:\n",
    "                dados.TF[i][palavra] = 0\n",
    "            dados.TF[i][palavra] += 1"
   ]
  },
  {
   "cell_type": "code",
   "execution_count": 5,
   "metadata": {
    "collapsed": true
   },
   "outputs": [],
   "source": [
    "def modeloBinario(termos):\n",
    "    return list(reduce((lambda x,y: indice_invertido[x] & indice_invertido[y]), termos))"
   ]
  },
  {
   "cell_type": "code",
   "execution_count": 6,
   "metadata": {
    "collapsed": true
   },
   "outputs": [],
   "source": [
    "def getDocumentsWithTerms(terms):\n",
    "    return list(reduce((lambda x,y: indice_invertido[x].union(indice_invertido[y])), terms))"
   ]
  },
  {
   "cell_type": "code",
   "execution_count": 7,
   "metadata": {
    "collapsed": true
   },
   "outputs": [],
   "source": [
    "def generateQueryTF(query):\n",
    "    tf = {}\n",
    "    for term in query:\n",
    "        if term not in tf:\n",
    "            tf[term] = 0\n",
    "        tf[term] += 1\n",
    "    return tf"
   ]
  },
  {
   "cell_type": "code",
   "execution_count": 15,
   "metadata": {
    "collapsed": true
   },
   "outputs": [],
   "source": [
    "def modeloTF(termos):\n",
    "    documentos = modeloBinario(termos)\n",
    "    documentsTF = []\n",
    "    for idDoc in documentos:\n",
    "        documentWeight = 0\n",
    "        for termo in termos:\n",
    "            docTF = dados.TF[idDoc][termo] if (termo in dados.TF[idDoc]) else 0\n",
    "            qTF = termos.count(termo)\n",
    "            documentWeight += docTF * qTF\n",
    "            \n",
    "        documentsTF.append((idDoc, documentWeight))\n",
    "    documentsTF.sort(key=lambda tup: tup[1], reverse=True)\n",
    "    ids = []\n",
    "    for tupla in documentsTF:\n",
    "        ids.append(tupla[0])\n",
    "    return ids"
   ]
  },
  {
   "cell_type": "code",
   "execution_count": 21,
   "metadata": {
    "collapsed": true
   },
   "outputs": [],
   "source": [
    "def modeloIDF(termos):\n",
    "    documentos = modeloBinario(termos)\n",
    "    documentsTF = []\n",
    "    for idDoc in documentos:\n",
    "        documentWeight = 0\n",
    "        for termo in termos:\n",
    "            docTF = dados.TF[idDoc][termo] if (termo in dados.TF[idDoc]) else 0\n",
    "            qTF = termos.count(termo)\n",
    "            idf = math.log(dados.titulo.size/len(indice_invertido[termo]))\n",
    "            documentWeight += docTF * qTF * idf\n",
    "            \n",
    "        documentsTF.append((idDoc, documentWeight))\n",
    "    documentsTF.sort(key=lambda tup: tup[1], reverse=True)\n",
    "    ids = []\n",
    "    for tupla in documentsTF:\n",
    "        ids.append(tupla[0])\n",
    "    return ids"
   ]
  },
  {
   "cell_type": "code",
   "execution_count": null,
   "metadata": {},
   "outputs": [
    {
     "name": "stderr",
     "output_type": "stream",
     "text": [
      "/opt/anaconda/anaconda3/lib/python3.6/site-packages/ipykernel_launcher.py:6: SettingWithCopyWarning: \n",
      "A value is trying to be set on a copy of a slice from a DataFrame\n",
      "\n",
      "See the caveats in the documentation: http://pandas.pydata.org/pandas-docs/stable/indexing.html#indexing-view-versus-copy\n",
      "  \n"
     ]
    }
   ],
   "source": [
    "geraIndice()\n",
    "termos = [\"segundo\", \"turno\"]\n",
    "consultaTF = modeloTF(termos)[:5]\n",
    "consultaIDF = modeloIDF(termos)[:5]\n",
    "\n",
    "[2744, 7, 2112, 7672, 2388]\n",
    "[2744, 2112, 7672, 1235, 2388]\n",
    "\n",
    "print(consultaTF)\n",
    "print(consultaIDF)"
   ]
  },
  {
   "cell_type": "code",
   "execution_count": 31,
   "metadata": {},
   "outputs": [
    {
     "data": {
      "text/plain": [
       "9"
      ]
     },
     "execution_count": 31,
     "metadata": {},
     "output_type": "execute_result"
    }
   ],
   "source": [
    "dados.TF[0][\"dilma\"]"
   ]
  }
 ],
 "metadata": {
  "kernelspec": {
   "display_name": "Python 3",
   "language": "python",
   "name": "python3"
  },
  "language_info": {
   "codemirror_mode": {
    "name": "ipython",
    "version": 3
   },
   "file_extension": ".py",
   "mimetype": "text/x-python",
   "name": "python",
   "nbconvert_exporter": "python",
   "pygments_lexer": "ipython3",
   "version": "3.6.2"
  }
 },
 "nbformat": 4,
 "nbformat_minor": 2
}
