{
 "cells": [
  {
   "cell_type": "code",
   "execution_count": 1,
   "metadata": {
    "collapsed": true
   },
   "outputs": [],
   "source": [
    "import pandas as pd\n",
    "import nltk\n",
    "import numpy as np\n",
    "from functools import reduce\n",
    "import math\n"
   ]
  },
  {
   "cell_type": "code",
   "execution_count": 2,
   "metadata": {
    "collapsed": true
   },
   "outputs": [],
   "source": [
    "NOME_DO_ARQUIVO = 'estadao_noticias_eleicao.csv'\n",
    "indice_invertido = {}\n",
    "dados = pd.read_csv(NOME_DO_ARQUIVO)\n",
    "dados = dados.replace(np.nan, '', regex=True)\n",
    "dados[\"TF\"] = None"
   ]
  },
  {
   "cell_type": "code",
   "execution_count": 24,
   "metadata": {
    "collapsed": true
   },
   "outputs": [],
   "source": [
    "def geraIndice():\n",
    "    for i, row in dados.iterrows():\n",
    "        \n",
    "        titulo = (word.lower() for word in (nltk.word_tokenize(row['titulo'])))\n",
    "        subtitulo = (word.lower() for word in (nltk.word_tokenize(row['subTitulo'])))\n",
    "        conteudo = (word.lower() for word in (nltk.word_tokenize(row['conteudo'])))\n",
    "        palavras_divididas = list(titulo) + list(subtitulo) + list(conteudo)\n",
    "        row[\"TF\"] = {}\n",
    "        for palavra in palavras_divididas:\n",
    "            if palavra not in indice_invertido:\n",
    "                indice_invertido[palavra] = dict([row['idNoticia']])\n",
    "            else:\n",
    "                indice_invertido[palavra].add(row['idNoticia'])\n",
    "            if palavra not in row[\"TF\"]:\n",
    "                row[\"TF\"][palavra] = 0\n",
    "            row[\"TF\"][palavra] += 1"
   ]
  },
  {
   "cell_type": "code",
   "execution_count": 4,
   "metadata": {
    "collapsed": true
   },
   "outputs": [],
   "source": [
    "def modeloBinario(termos):\n",
    "    return list(reduce((lambda x,y: indice_invertido[x] & indice_invertido[y]), termos))"
   ]
  },
  {
   "cell_type": "code",
   "execution_count": 5,
   "metadata": {
    "collapsed": true
   },
   "outputs": [],
   "source": [
    "def getDocumentsWithTerms(terms):\n",
    "    return list(reduce((lambda x,y: indice_invertido[x].union(indice_invertido[y])), terms))"
   ]
  },
  {
   "cell_type": "code",
   "execution_count": 6,
   "metadata": {
    "collapsed": true
   },
   "outputs": [],
   "source": [
    "def generateQueryTF(query):\n",
    "    tf = {}\n",
    "    for term in query:\n",
    "        if term not in tf:\n",
    "            tf[term] = 0\n",
    "        tf[term] += 1\n",
    "    return tf"
   ]
  },
  {
   "cell_type": "code",
   "execution_count": 7,
   "metadata": {
    "collapsed": true
   },
   "outputs": [],
   "source": [
    "def modeloTF(termos):\n",
    "    documentos = modeloBinario(termos)\n",
    "    documentsTF = []\n",
    "    for idDoc in documentos:\n",
    "        documentWeight = 0\n",
    "        for termo in termos:\n",
    "            docTF = dados.TF[idDoc][termo] if (termo in dados.TF[idDoc]) else 0\n",
    "            qTF = termos.count(termo)\n",
    "            documentWeight += docTF * qTF\n",
    "            \n",
    "        documentsTF.append((idDoc, documentWeight))\n",
    "    documentsTF.sort(key=lambda tup: tup[1], reverse=True)\n",
    "    ids = []\n",
    "    for tupla in documentsTF:\n",
    "        ids.append(tupla[0])\n",
    "    return ids"
   ]
  },
  {
   "cell_type": "code",
   "execution_count": 45,
   "metadata": {},
   "outputs": [],
   "source": [
    "def modeloIDF(termos):\n",
    "    documentos = modeloBinario(termos)\n",
    "    documentsTF = []\n",
    "    for idDoc in documentos:\n",
    "        documentWeight = 0\n",
    "        for termo in termos:\n",
    "            docTF = dados.TF[idDoc][termo] if (termo in dados.TF[idDoc]) else 0\n",
    "            qTF = termos.count(termo)\n",
    "            idf = math.log(dados.titulo.size/len(indice_invertido[termo]))\n",
    "            documentWeight += docTF * qTF * idf\n",
    "            \n",
    "        documentsTF.append((idDoc, documentWeight))\n",
    "    documentsTF.sort(key=lambda tup: tup[1], reverse=True)\n",
    "    ids = []\n",
    "    for tupla in documentsTF:\n",
    "        ids.append(tupla[0])\n",
    "    return ids"
   ]
  },
  {
   "cell_type": "code",
   "execution_count": 46,
   "metadata": {},
   "outputs": [
    {
     "name": "stdout",
     "output_type": "stream",
     "text": [
      "[2111, 2177, 2137, 2113, 2293]\n",
      "[2111, 2177, 1963, 2137, 2113]\n"
     ]
    }
   ],
   "source": [
    "# geraIndice()\n",
    "termos = [\"segundo\", \"turno\"]\n",
    "consultaTF = modeloTF(termos)[:5]\n",
    "consultaIDF = modeloIDF(termos)[:5]\n",
    "\n",
    "[2744, 7, 2112, 7672, 2388]\n",
    "[2744, 2112, 7672, 1235, 2388]\n",
    "\n",
    "print(consultaTF)\n",
    "print(consultaIDF)"
   ]
  },
  {
   "cell_type": "code",
   "execution_count": 47,
   "metadata": {},
   "outputs": [
    {
     "ename": "TypeError",
     "evalue": "unhashable type: 'set'",
     "output_type": "error",
     "traceback": [
      "\u001b[0;31m---------------------------------------------------------------------------\u001b[0m",
      "\u001b[0;31mTypeError\u001b[0m                                 Traceback (most recent call last)",
      "\u001b[0;32m<ipython-input-47-6fc9a3774852>\u001b[0m in \u001b[0;36m<module>\u001b[0;34m()\u001b[0m\n\u001b[0;32m----> 1\u001b[0;31m \u001b[0moi\u001b[0m \u001b[0;34m=\u001b[0m \u001b[0mmodeloBinario\u001b[0m\u001b[0;34m(\u001b[0m\u001b[0;34m[\u001b[0m\u001b[0;34m\"pt\"\u001b[0m\u001b[0;34m,\u001b[0m \u001b[0;34m\"espera\"\u001b[0m\u001b[0;34m,\u001b[0m \u001b[0;34m\"30\"\u001b[0m\u001b[0;34m,\u001b[0m \u001b[0;34m\"mil\"\u001b[0m\u001b[0;34m]\u001b[0m\u001b[0;34m)\u001b[0m\u001b[0;34m\u001b[0m\u001b[0m\n\u001b[0m",
      "\u001b[0;32m<ipython-input-4-ea342f76ad2e>\u001b[0m in \u001b[0;36mmodeloBinario\u001b[0;34m(termos)\u001b[0m\n\u001b[1;32m      1\u001b[0m \u001b[0;32mdef\u001b[0m \u001b[0mmodeloBinario\u001b[0m\u001b[0;34m(\u001b[0m\u001b[0mtermos\u001b[0m\u001b[0;34m)\u001b[0m\u001b[0;34m:\u001b[0m\u001b[0;34m\u001b[0m\u001b[0m\n\u001b[0;32m----> 2\u001b[0;31m     \u001b[0;32mreturn\u001b[0m \u001b[0mlist\u001b[0m\u001b[0;34m(\u001b[0m\u001b[0mreduce\u001b[0m\u001b[0;34m(\u001b[0m\u001b[0;34m(\u001b[0m\u001b[0;32mlambda\u001b[0m \u001b[0mx\u001b[0m\u001b[0;34m,\u001b[0m\u001b[0my\u001b[0m\u001b[0;34m:\u001b[0m \u001b[0mindice_invertido\u001b[0m\u001b[0;34m[\u001b[0m\u001b[0mx\u001b[0m\u001b[0;34m]\u001b[0m \u001b[0;34m&\u001b[0m \u001b[0mindice_invertido\u001b[0m\u001b[0;34m[\u001b[0m\u001b[0my\u001b[0m\u001b[0;34m]\u001b[0m\u001b[0;34m)\u001b[0m\u001b[0;34m,\u001b[0m \u001b[0mtermos\u001b[0m\u001b[0;34m)\u001b[0m\u001b[0;34m)\u001b[0m\u001b[0;34m\u001b[0m\u001b[0m\n\u001b[0m",
      "\u001b[0;32m<ipython-input-4-ea342f76ad2e>\u001b[0m in \u001b[0;36m<lambda>\u001b[0;34m(x, y)\u001b[0m\n\u001b[1;32m      1\u001b[0m \u001b[0;32mdef\u001b[0m \u001b[0mmodeloBinario\u001b[0m\u001b[0;34m(\u001b[0m\u001b[0mtermos\u001b[0m\u001b[0;34m)\u001b[0m\u001b[0;34m:\u001b[0m\u001b[0;34m\u001b[0m\u001b[0m\n\u001b[0;32m----> 2\u001b[0;31m     \u001b[0;32mreturn\u001b[0m \u001b[0mlist\u001b[0m\u001b[0;34m(\u001b[0m\u001b[0mreduce\u001b[0m\u001b[0;34m(\u001b[0m\u001b[0;34m(\u001b[0m\u001b[0;32mlambda\u001b[0m \u001b[0mx\u001b[0m\u001b[0;34m,\u001b[0m\u001b[0my\u001b[0m\u001b[0;34m:\u001b[0m \u001b[0mindice_invertido\u001b[0m\u001b[0;34m[\u001b[0m\u001b[0mx\u001b[0m\u001b[0;34m]\u001b[0m \u001b[0;34m&\u001b[0m \u001b[0mindice_invertido\u001b[0m\u001b[0;34m[\u001b[0m\u001b[0my\u001b[0m\u001b[0;34m]\u001b[0m\u001b[0;34m)\u001b[0m\u001b[0;34m,\u001b[0m \u001b[0mtermos\u001b[0m\u001b[0;34m)\u001b[0m\u001b[0;34m)\u001b[0m\u001b[0;34m\u001b[0m\u001b[0m\n\u001b[0m",
      "\u001b[0;31mTypeError\u001b[0m: unhashable type: 'set'"
     ]
    }
   ],
   "source": [
    "oi = modeloBinario([\"pt\", \"espera\", \"30\", \"mil\"])"
   ]
  }
 ],
 "metadata": {
  "kernelspec": {
   "display_name": "Python 3",
   "language": "python",
   "name": "python3"
  },
  "language_info": {
   "codemirror_mode": {
    "name": "ipython",
    "version": 3
   },
   "file_extension": ".py",
   "mimetype": "text/x-python",
   "name": "python",
   "nbconvert_exporter": "python",
   "pygments_lexer": "ipython3",
   "version": "3.6.2"
  }
 },
 "nbformat": 4,
 "nbformat_minor": 2
}
