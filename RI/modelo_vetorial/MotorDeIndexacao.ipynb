{
 "cells": [
  {
   "cell_type": "code",
   "execution_count": 134,
   "metadata": {},
   "outputs": [],
   "source": [
    "import pandas as pd\n",
    "import nltk\n",
    "import numpy as np\n",
    "from functools import reduce\n",
    "import math\n"
   ]
  },
  {
   "cell_type": "code",
   "execution_count": 133,
   "metadata": {},
   "outputs": [],
   "source": [
    "NOME_DO_ARQUIVO = 'estadao_noticias_eleicao.csv'\n",
    "indice_invertido = {}\n",
    "dados = pd.read_csv(NOME_DO_ARQUIVO)\n",
    "dados = dados.replace(np.nan, '', regex=True)\n",
    "dados[\"TF\"] = None"
   ]
  },
  {
   "cell_type": "code",
   "execution_count": 135,
   "metadata": {},
   "outputs": [],
   "source": [
    "def geraIndice():\n",
    "    for i in range(dados.titulo.size):\n",
    "        texto = dados.titulo[i] + \" \" + dados.conteudo[i] + \" \" + dados.subTitulo[i]\n",
    "        palavras_divididas = nltk.word_tokenize(texto)\n",
    "        dados.TF[i] = {}\n",
    "        for palavra in palavras_divididas:\n",
    "            palavra = palavra.lower()\n",
    "            if palavra not in indice_invertido:\n",
    "                indice_invertido[palavra] = set([dados.idNoticia[i]])\n",
    "            else:\n",
    "                indice_invertido[palavra].add(dados.idNoticia[i])\n",
    "            if palavra not in dados.TF[i]:\n",
    "                dados.TF[i][palavra] = 0\n",
    "            dados.TF[i][palavra] += 1"
   ]
  },
  {
   "cell_type": "code",
   "execution_count": 83,
   "metadata": {},
   "outputs": [],
   "source": [
    "def modeloBinario(termos):\n",
    "    return list(reduce((lambda x,y: indice_invertido[x] & indice_invertido[y]), termos))"
   ]
  },
  {
   "cell_type": "code",
   "execution_count": 89,
   "metadata": {},
   "outputs": [],
   "source": [
    "def getDocumentsWithTerms(terms):\n",
    "    return list(reduce((lambda x,y: indice_invertido[x].union(indice_invertido[y])), terms))"
   ]
  },
  {
   "cell_type": "code",
   "execution_count": 85,
   "metadata": {},
   "outputs": [],
   "source": [
    "def generateQueryTF(query):\n",
    "    tf = {}\n",
    "    for term in query:\n",
    "        if term not in tf:\n",
    "            tf[term] = 0\n",
    "        tf[term] += 1\n",
    "    return tf"
   ]
  },
  {
   "cell_type": "code",
   "execution_count": 144,
   "metadata": {},
   "outputs": [],
   "source": [
    "def modeloTF(termos):\n",
    "    documentos = getDocumentsWithTerms(termos)\n",
    "    tfQuery = generateQueryTF(termos)\n",
    "    documentsTF = []\n",
    "    for idDoc in documentos:\n",
    "        documentWeight = 0\n",
    "        for queryTerm in tfQuery:\n",
    "            docTF = dados.TF[idDoc][queryTerm] if queryTerm in dados.TF[idDoc] else 0\n",
    "            qTF = tfQuery[queryTerm] if queryTerm in tfQuery else 0\n",
    "            documentWeight += docTF * qTF\n",
    "            \n",
    "        documentsTF.append((idDoc, documentWeight))\n",
    "    documentsTF.sort(key=lambda tup: tup[1], reverse=True)\n",
    "    ids = []\n",
    "    for tupla in documentsTF:\n",
    "        ids.append(tupla[0])\n",
    "    return ids"
   ]
  },
  {
   "cell_type": "code",
   "execution_count": 141,
   "metadata": {},
   "outputs": [],
   "source": [
    "def modeloIDF(termos):\n",
    "    documentos = getDocumentsWithTerms(termos)\n",
    "    tfQuery = generateQueryTF(termos)\n",
    "    documentsTF = []\n",
    "    for idDoc in documentos:\n",
    "        documentWeight = 0\n",
    "        for queryTerm in tfQuery:\n",
    "            docTF = dados.TF[idDoc][queryTerm] if queryTerm in dados.TF[idDoc] else 0\n",
    "            qTF = tfQuery[queryTerm] if queryTerm in tfQuery else 0\n",
    "            idf = math.log10(dados.titulo.size/len(indice_invertido[queryTerm]))\n",
    "            documentWeight += docTF * qTF * idf\n",
    "        documentsTF.append((idDoc, documentWeight))\n",
    "    documentsTF.sort(key=lambda tup: tup[1], reverse=True)\n",
    "    ids = []\n",
    "    for tupla in documentsTF:\n",
    "        ids.append(tupla[0])\n",
    "    return ids"
   ]
  },
  {
   "cell_type": "code",
   "execution_count": 145,
   "metadata": {},
   "outputs": [
    {
     "name": "stdout",
     "output_type": "stream",
     "text": [
      "[2743, 2111, 2387, 2177, 2137]\n",
      "[(2743, 25.32148212306859), (2111, 14.79657944001845), (2387, 12.772739223519034), (2177, 12.130500211956493), (1963, 10.52490268305014)]\n"
     ]
    }
   ],
   "source": [
    "termos = [\"segundo\", \"turno\"]\n",
    "consultaTF = modeloTF(termos)[:5]\n",
    "consultaIDF = modeloIDF(termos)[:5]\n",
    "\n",
    "[2744, 7, 2112, 7672, 2388]\n",
    "[2744, 2112, 7672, 1235, 2388]\n",
    "\n",
    "print(consultaTF)\n",
    "print(consultaIDF)"
   ]
  },
  {
   "cell_type": "code",
   "execution_count": null,
   "metadata": {},
   "outputs": [],
   "source": []
  }
 ],
 "metadata": {
  "kernelspec": {
   "display_name": "Python 3",
   "language": "python",
   "name": "python3"
  },
  "language_info": {
   "codemirror_mode": {
    "name": "ipython",
    "version": 3
   },
   "file_extension": ".py",
   "mimetype": "text/x-python",
   "name": "python",
   "nbconvert_exporter": "python",
   "pygments_lexer": "ipython3",
   "version": "3.6.5"
  }
 },
 "nbformat": 4,
 "nbformat_minor": 2
}
