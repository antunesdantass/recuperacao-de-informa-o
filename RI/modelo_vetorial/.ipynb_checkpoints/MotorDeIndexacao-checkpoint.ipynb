{
 "cells": [
  {
   "cell_type": "code",
   "execution_count": 1,
   "metadata": {
    "collapsed": true
   },
   "outputs": [],
   "source": [
    "import pandas as pandas\n",
    "import nltk\n",
    "import numpy as np\n",
    "from functools import reduce\n",
    "\n",
    "NOME_DO_ARQUIVO = 'estadao_noticias_eleicao.csv'\n",
    "indice_invertido = {}"
   ]
  },
  {
   "cell_type": "code",
   "execution_count": null,
   "metadata": {
    "collapsed": true
   },
   "outputs": [],
   "source": [
    "def geraIndice():\n",
    "    dados = pandas.read_csv(NOME_DO_ARQUIVO)\n",
    "    dados = dados.replace(np.nan, '', regex=True)\n",
    "    for i in range(dados.titulo.size):\n",
    "        texto = dados.titulo[i] + \" \" + dados.conteudo[i] + \"\" + dados.subTitulo\n",
    "        palavras_divididas = nltk.word_tokenize(texto)\n",
    "        for palavra in palavras_divididas:\n",
    "            palavra = palavra.lower()\n",
    "            valor_dicionario = (dados.idNoticia[i], calcularTF(palavra_divididas, palavra))\n",
    "            if palavra not in indice_invertido:\n",
    "                indice_invertido[palavra] = set([valor_dicionario])\n",
    "            else:\n",
    "                indice_invertido[palavra].add(valor_dicionario)\n",
    "                \n"
   ]
  },
  {
   "cell_type": "code",
   "execution_count": 11,
   "metadata": {},
   "outputs": [],
   "source": [
    "def calcularTF(documento, termo):\n",
    "    return len(list(filter((lambda x: x == termo ), documento)))"
   ]
  }
 ],
 "metadata": {
  "kernelspec": {
   "display_name": "Python 3",
   "language": "python",
   "name": "python3"
  },
  "language_info": {
   "codemirror_mode": {
    "name": "ipython",
    "version": 3
   },
   "file_extension": ".py",
   "mimetype": "text/x-python",
   "name": "python",
   "nbconvert_exporter": "python",
   "pygments_lexer": "ipython3",
   "version": "3.6.2"
  }
 },
 "nbformat": 4,
 "nbformat_minor": 2
}
