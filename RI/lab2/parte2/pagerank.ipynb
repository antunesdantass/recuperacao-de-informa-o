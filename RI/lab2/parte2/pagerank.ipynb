{
 "cells": [
  {
   "cell_type": "code",
   "execution_count": 2,
   "metadata": {},
   "outputs": [],
   "source": [
    "import numpy as np\n",
    "import pandas as pd"
   ]
  },
  {
   "cell_type": "markdown",
   "metadata": {},
   "source": [
    "### Pagerank\n",
    "###### Autor: Antunes Dantas da Silva\n",
    "\n",
    "O seguinte notebook tem por objetivo mostrar o funcionamento do algoritmo Pagerank. Para estudá-lo, vamos implementá-lo e aplicá-lo em um conjunto de dados sobre investidores em bitcoin. Ao final, responderemos as seguintes perguntas:\n",
    "\n",
    "    1. Quantas iterações o PageRank precisou rodar até atingir convergência?\n",
    "    2. Quais os 5 investidores mais importantes segundo o PageRank? Quais seus valores de PageRank?\n",
    "    3. Como você poderia usar o PageRank caso você fosse um investidor em bitcoins?\n",
    "    \n",
    "Inicialmente, vamos importar os dados e montar a matriz de transição a partir dos dados. No nosso conjunto de dados, temos três colunas: origem da transferência, destino, nota do autor e hora da transação. Consideraremos apenas os usuários com nota 8 ou superior."
   ]
  },
  {
   "cell_type": "markdown",
   "metadata": {},
   "source": [
    "A seguir, faremos a leitura dos dados e algumas transformações. Excluiremos a coluna TIME, pois ela não faz sentido para o nosso objetivo. Além disso, vamos excluir os dados de investidores com nota menor que 8."
   ]
  },
  {
   "cell_type": "code",
   "execution_count": 3,
   "metadata": {},
   "outputs": [],
   "source": [
    "bitcoinDataset = pd.read_csv('soc-sign-bitcoinotc.csv')\n",
    "bitcoinDataset = bitcoinDataset.drop(\"TIME\", axis=1)\n",
    "bitcoinDataset = bitcoinDataset.loc[bitcoinDataset['RATING'] >= 8]"
   ]
  },
  {
   "cell_type": "markdown",
   "metadata": {},
   "source": [
    "Agora, vamos mapear os ids de todos os investidores. Para isso, vamos criar dois dicionários auxiliares: um que mapeia o ID do dataset para um id na nossa matriz de adjacência e outro que faz o mapeamento contrário. Assim, ficará mais fácil realizar a transição dos dados pra matriz."
   ]
  },
  {
   "cell_type": "code",
   "execution_count": 4,
   "metadata": {},
   "outputs": [],
   "source": [
    "ids = list(set(list(bitcoinDataset[\"SOURCE\"])).union(set(list(bitcoinDataset[\"TARGET\"]))))\n",
    "mapa_usuario_id = dict(zip(ids, range(len(ids))))\n",
    "mapa_id_usuario = {v: k for k, v in mapa_usuario_id.items()}"
   ]
  },
  {
   "cell_type": "markdown",
   "metadata": {},
   "source": [
    "O próximo passo é gerar a matriz de adjacência. A ideia utilizada é de percorrer ela por coluna, e preencher os valores das linhas que possuem conexão."
   ]
  },
  {
   "cell_type": "code",
   "execution_count": 5,
   "metadata": {},
   "outputs": [],
   "source": [
    "matriz = [[0 for x in range(len(ids))] for y in range(len(ids))]\n",
    "\n",
    "for i in range(len(matriz)):\n",
    "    idTrader = mapa_id_usuario[i]\n",
    "    targets = list((bitcoinDataset.loc[bitcoinDataset['SOURCE'] == idTrader])['TARGET'])\n",
    "    for target in targets:\n",
    "        idTarget = mapa_usuario_id[target]\n",
    "        matriz[idTarget][i] = 1 / len(targets)"
   ]
  },
  {
   "cell_type": "markdown",
   "metadata": {},
   "source": [
    "Depois de gerada a matriz, utilizaremos um algoritmo de pagerank para calcular o pagerank dos investidores."
   ]
  },
  {
   "cell_type": "code",
   "execution_count": 22,
   "metadata": {},
   "outputs": [],
   "source": [
    "a = np.matrix(matriz)\n",
    "b = float(1) / float(len(matriz)) * np.matrix([[1 for x in range(len(ids))] for y in range(len(ids))])\n",
    "m = 0.85 * a + 0.15 * b\n",
    "v = float(1) / float(len(matriz)) * np.matrix([[1 for x in range(1)] for y in range(len(ids))] )\n",
    "count = 0\n",
    "def pagerank(v):\n",
    "    global count\n",
    "    if sum(abs(m*v - v)) > 0.001 :\n",
    "        count += 1\n",
    "        return pagerank(m*v)\n",
    "    else:\n",
    "        count +=1\n",
    "        return m*v\n",
    "\n",
    "result = pagerank(v)"
   ]
  },
  {
   "cell_type": "markdown",
   "metadata": {},
   "source": [
    "Agora podemos responder a primeira pergunta: depois de quantas iterações o algoritmo convergiu?"
   ]
  },
  {
   "cell_type": "code",
   "execution_count": 7,
   "metadata": {},
   "outputs": [
    {
     "name": "stdout",
     "output_type": "stream",
     "text": [
      "35 execuções\n"
     ]
    }
   ],
   "source": [
    "print(\"%i execuções\" % count)"
   ]
  },
  {
   "cell_type": "markdown",
   "metadata": {},
   "source": [
    "Para responder a segunda pergunta, vamos selecionar os 5 maiores valores de pagerank dos nossos dados."
   ]
  },
  {
   "cell_type": "code",
   "execution_count": 23,
   "metadata": {},
   "outputs": [],
   "source": [
    "result = np.array([i[0] for i in result.tolist()])"
   ]
  },
  {
   "cell_type": "code",
   "execution_count": 24,
   "metadata": {},
   "outputs": [],
   "source": [
    "maioresPageranks = [mapa_id_usuario[i] for i in result.argsort()[-5:][::-1]]"
   ]
  },
  {
   "cell_type": "code",
   "execution_count": 33,
   "metadata": {},
   "outputs": [
    {
     "data": {
      "text/html": [
       "<div>\n",
       "<style scoped>\n",
       "    .dataframe tbody tr th:only-of-type {\n",
       "        vertical-align: middle;\n",
       "    }\n",
       "\n",
       "    .dataframe tbody tr th {\n",
       "        vertical-align: top;\n",
       "    }\n",
       "\n",
       "    .dataframe thead th {\n",
       "        text-align: right;\n",
       "    }\n",
       "</style>\n",
       "<table border=\"1\" class=\"dataframe\">\n",
       "  <thead>\n",
       "    <tr style=\"text-align: right;\">\n",
       "      <th></th>\n",
       "      <th>INVESTIDOR</th>\n",
       "      <th>PAGE_RANK</th>\n",
       "    </tr>\n",
       "  </thead>\n",
       "  <tbody>\n",
       "    <tr>\n",
       "      <th>0</th>\n",
       "      <td>1</td>\n",
       "      <td>0.000139</td>\n",
       "    </tr>\n",
       "    <tr>\n",
       "      <th>1</th>\n",
       "      <td>202</td>\n",
       "      <td>0.000125</td>\n",
       "    </tr>\n",
       "    <tr>\n",
       "      <th>2</th>\n",
       "      <td>144</td>\n",
       "      <td>0.000117</td>\n",
       "    </tr>\n",
       "    <tr>\n",
       "      <th>3</th>\n",
       "      <td>3996</td>\n",
       "      <td>0.000093</td>\n",
       "    </tr>\n",
       "    <tr>\n",
       "      <th>4</th>\n",
       "      <td>361</td>\n",
       "      <td>0.000092</td>\n",
       "    </tr>\n",
       "  </tbody>\n",
       "</table>\n",
       "</div>"
      ],
      "text/plain": [
       "   INVESTIDOR  PAGE_RANK\n",
       "0           1   0.000139\n",
       "1         202   0.000125\n",
       "2         144   0.000117\n",
       "3        3996   0.000093\n",
       "4         361   0.000092"
      ]
     },
     "execution_count": 33,
     "metadata": {},
     "output_type": "execute_result"
    }
   ],
   "source": [
    "pd.DataFrame({'INVESTIDOR':maioresPageranks, 'PAGE_RANK':sorted(result, reverse=True)[:5]})"
   ]
  },
  {
   "cell_type": "markdown",
   "metadata": {},
   "source": [
    "A terceira pergunta nos ajuda a ver o por que o pagerank é tão útil. Com os dados que temos, podemos ver quais os investidores que recebe mais transações, isso nos ajuda a ter a confiaça de que a probabilidade do investimento nesse investidor ser algo perdido, visto que o mesmo tem um bom ranking."
   ]
  },
  {
   "cell_type": "markdown",
   "metadata": {},
   "source": [
    "Por último, vamos criar um CSV com os dados para criar uma visualização dos dados."
   ]
  },
  {
   "cell_type": "code",
   "execution_count": 37,
   "metadata": {},
   "outputs": [],
   "source": [
    "bitcoinDataset.to_csv(path_or_buf='pagerank.csv', columns=['SOURCE', 'TARGET'], index=False)"
   ]
  },
  {
   "cell_type": "markdown",
   "metadata": {},
   "source": [
    "![title](screenshot_195216.png)"
   ]
  }
 ],
 "metadata": {
  "kernelspec": {
   "display_name": "Python 3",
   "language": "python",
   "name": "python3"
  },
  "language_info": {
   "codemirror_mode": {
    "name": "ipython",
    "version": 3
   },
   "file_extension": ".py",
   "mimetype": "text/x-python",
   "name": "python",
   "nbconvert_exporter": "python",
   "pygments_lexer": "ipython3",
   "version": "3.6.5"
  }
 },
 "nbformat": 4,
 "nbformat_minor": 2
}
