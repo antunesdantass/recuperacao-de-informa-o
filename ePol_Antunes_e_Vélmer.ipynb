{
  "nbformat": 4,
  "nbformat_minor": 0,
  "metadata": {
    "colab": {
      "name": "ePol - Antunes e Vélmer.ipynb",
      "version": "0.3.2",
      "provenance": [],
      "collapsed_sections": [],
      "include_colab_link": true
    },
    "kernelspec": {
      "name": "python3",
      "display_name": "Python 3"
    }
  },
  "cells": [
    {
      "cell_type": "markdown",
      "metadata": {
        "id": "view-in-github",
        "colab_type": "text"
      },
      "source": [
        "<a href=\"https://colab.research.google.com/github/antunesdantass/recuperacao-de-informa-o/blob/master/ePol_Antunes_e_V%C3%A9lmer.ipynb\" target=\"_parent\"><img src=\"https://colab.research.google.com/assets/colab-badge.svg\" alt=\"Open In Colab\"/></a>"
      ]
    },
    {
      "cell_type": "markdown",
      "metadata": {
        "id": "YUDljoUqdTYt",
        "colab_type": "text"
      },
      "source": [
        "Este notebook tem como objetivo demonstrar técnicas de classificação de texto usando a biblioteca sklearn e os algoritmos Regressão Logística, Árvore de Decisão e SVM. O objetivo é analisar quais destes é mais eficiente. Os dados de treinamento e teste serão os mesmos para os três algoritmos. Este trabalho é baseado em um tutorial do blog Towars Data Science, disponível [aqui](https://towardsdatascience.com/multi-class-text-classification-model-comparison-and-selection-5eb066197568).\n"
      ]
    },
    {
      "cell_type": "markdown",
      "metadata": {
        "id": "XqGj9UVbd9SP",
        "colab_type": "text"
      },
      "source": [
        "Os dados que utilizaremos nesse tutorial são de perguntas feitas no site StackOverflow. A ideia é separar as perguntas de acordo com a tecnologia/linguagem de programação da sua tag."
      ]
    },
    {
      "cell_type": "code",
      "metadata": {
        "id": "zGqVClJTdGA0",
        "colab_type": "code",
        "outputId": "033309b6-b7e6-4941-ff8f-b159891923ce",
        "colab": {
          "base_uri": "https://localhost:8080/",
          "height": 225
        }
      },
      "source": [
        "import logging\n",
        "import pandas as pd\n",
        "import numpy as np\n",
        "from numpy import random\n",
        "import gensim\n",
        "import nltk\n",
        "from sklearn.model_selection import train_test_split\n",
        "from sklearn.feature_extraction.text import CountVectorizer, TfidfVectorizer\n",
        "from sklearn.metrics import accuracy_score, confusion_matrix\n",
        "import matplotlib.pyplot as plt\n",
        "from nltk.corpus import stopwords\n",
        "import re\n",
        "from bs4 import BeautifulSoup\n",
        "%matplotlib inline\n",
        "\n",
        "df = pd.read_csv('https://storage.googleapis.com/tensorflow-workshop-examples/stack-overflow-data.csv')\n",
        "df = df[pd.notnull(df['tags'])]\n",
        "print(df.head(10))\n",
        "print(df['post'].apply(lambda x: len(x.split(' '))).sum())"
      ],
      "execution_count": 6,
      "outputs": [
        {
          "output_type": "stream",
          "text": [
            "                                                post           tags\n",
            "0  what is causing this behavior  in our c# datet...             c#\n",
            "1  have dynamic html load as if it was in an ifra...        asp.net\n",
            "2  how to convert a float value in to min:sec  i ...    objective-c\n",
            "3  .net framework 4 redistributable  just wonderi...           .net\n",
            "4  trying to calculate and print the mean and its...         python\n",
            "5  how to give alias name for my website  i have ...        asp.net\n",
            "6  window.open() returns null in angularjs  it wo...      angularjs\n",
            "7  identifying server timeout quickly in iphone  ...         iphone\n",
            "8  unknown method key  error in rails 2.3.8 unit ...  ruby-on-rails\n",
            "9  from the include  how to show and hide the con...      angularjs\n",
            "10286120\n"
          ],
          "name": "stdout"
        }
      ]
    },
    {
      "cell_type": "markdown",
      "metadata": {
        "id": "9ENY7hbozHKH",
        "colab_type": "text"
      },
      "source": [
        "Como desejamos classificar os dados, é interessante observar a distribuição dos dados por classe, já que vimos na apresentação que a maioria dos modelos pode sofrer de overfitting quando há uma classe dominante."
      ]
    },
    {
      "cell_type": "code",
      "metadata": {
        "id": "UIBF3FX_2q0O",
        "colab_type": "code",
        "colab": {
          "base_uri": "https://localhost:8080/",
          "height": 322
        },
        "outputId": "143e812f-080b-42db-982c-2d6c0850ada4"
      },
      "source": [
        "my_tags = ['java','html','asp.net','c#','ruby-on-rails','jquery','mysql','php','ios','javascript','python','c','css','android','iphone','sql','objective-c','c++','angularjs','.net']\n",
        "plt.figure(figsize=(10,4))\n",
        "df.tags.value_counts().plot(kind='bar');"
      ],
      "execution_count": 3,
      "outputs": [
        {
          "output_type": "display_data",
          "data": {
            "image/png": "[encoded data removed]",
            "text/plain": [
              "<Figure size 720x288 with 1 Axes>"
            ]
          },
          "metadata": {
            "tags": []
          }
        }
      ]
    },
    {
      "cell_type": "markdown",
      "metadata": {
        "id": "FhGb597NBHfu",
        "colab_type": "text"
      },
      "source": [
        "A primeira etapa antes de iniciar a classificação é preparar os dados. Como estamos trabalhando com textos extraídos de uma página web, é importante remover quaisquer resquícios de linguagem de marcação e termos que não são úteis. Vamos olhar como estão os dados:"
      ]
    },
    {
      "cell_type": "code",
      "metadata": {
        "id": "1AxTpBLtCQnf",
        "colab_type": "code",
        "colab": {
          "base_uri": "https://localhost:8080/",
          "height": 72
        },
        "outputId": "90e75e1c-0b8a-4144-9a4c-d539c918976c"
      },
      "source": [
        "def print_plot(index):\n",
        "    example = df[df.index == index][['post', 'tags']].values[0]\n",
        "    if len(example) > 0:\n",
        "        print(example[0])\n",
        "        print('Tag:', example[1])\n",
        "\n",
        "print_plot(10)"
      ],
      "execution_count": 4,
      "outputs": [
        {
          "output_type": "stream",
          "text": [
            "when we need interface c# <blockquote>    <strong>possible duplicate:</strong><br>   <a href= https://stackoverflow.com/questions/240152/why-would-i-want-to-use-interfaces >why would i want to use interfaces </a>   <a href= https://stackoverflow.com/questions/9451868/why-i-need-interface >why i need interface </a>    </blockquote>     i want to know where and when to use it     for example    <pre><code>interface idemo {  // function prototype  public void show(); }  // first class using the interface class myclass1 : idemo {  public void show()  {   // function body comes here   response.write( i m in myclass );  }  }  // second class using the interface class myclass2 : idemo {  public void show()   {   // function body comes here   response.write( i m in myclass2 );   response.write( so  what  );  } </code></pre>   these two classes has the same function name with different body. this can be even achieved without interface. then why we need an interface where and when to use it\n",
            "Tag: c#\n"
          ],
          "name": "stdout"
        }
      ]
    },
    {
      "cell_type": "markdown",
      "metadata": {
        "id": "VNZZjHRuCUY-",
        "colab_type": "text"
      },
      "source": [
        "Como visto acima, no meio do texto há muito \"lixo\". Tags HTML, trechos de código. Nada disso é interessante para a classificação e deve ser removido. Essa etapa é conhecida como pré-processamento dos documentos e é independente da maneira como iremos classificá-los."
      ]
    },
    {
      "cell_type": "code",
      "metadata": {
        "id": "po2v-oknDF_X",
        "colab_type": "code",
        "colab": {
          "base_uri": "https://localhost:8080/",
          "height": 72
        },
        "outputId": "fd98360e-4d0b-4646-d8bb-4e3e1f7ae8a2"
      },
      "source": [
        "REPLACE_BY_SPACE_RE = re.compile('[/(){}\\[\\]\\|@,;]')\n",
        "BAD_SYMBOLS_RE = re.compile('[^0-9a-z #+_]')\n",
        "STOPWORDS = set(stopwords.words('english'))\n",
        "\n",
        "def clean_text(text):\n",
        "    \"\"\"\n",
        "        text: a string\n",
        "        \n",
        "        return: modified initial string\n",
        "    \"\"\"\n",
        "    text = BeautifulSoup(text, \"lxml\").text # HTML decoding\n",
        "    text = text.lower() # lowercase text\n",
        "    text = REPLACE_BY_SPACE_RE.sub(' ', text) # replace REPLACE_BY_SPACE_RE symbols by space in text\n",
        "    text = BAD_SYMBOLS_RE.sub('', text) # delete symbols which are in BAD_SYMBOLS_RE from text\n",
        "    text = ' '.join(word for word in text.split() if word not in STOPWORDS) # delete stopwors from text\n",
        "    return text\n",
        "    \n",
        "df['post'] = df['post'].apply(clean_text)\n",
        "print_plot(10)"
      ],
      "execution_count": 9,
      "outputs": [
        {
          "output_type": "stream",
          "text": [
            "need interface c# possible duplicate would want use interfaces need interface want know use example interface idemo function prototype public void show first class using interface class myclass1 idemo public void show function body comes responsewrite myclass second class using interface class myclass2 idemo public void show function body comes responsewrite myclass2 responsewrite two classes function name different body even achieved without interface need interface use\n",
            "Tag: c#\n"
          ],
          "name": "stdout"
        }
      ]
    },
    {
      "cell_type": "markdown",
      "metadata": {
        "id": "aTuLQ_sTD8cS",
        "colab_type": "text"
      },
      "source": [
        "O texto acima é exatamente o mesmo que estava antes da \"limpeza\". Dessa vez, sem trechos de códigos e totalmente limpo. Uma métrica interessante é observar o tamanho do corpus:"
      ]
    },
    {
      "cell_type": "code",
      "metadata": {
        "id": "kh9E-hIWEO8C",
        "colab_type": "code",
        "colab": {
          "base_uri": "https://localhost:8080/",
          "height": 34
        },
        "outputId": "45a0f785-1b65-462e-ccaa-a9ef928fa6c5"
      },
      "source": [
        "df['post'].apply(lambda x: len(x.split(' '))).sum()"
      ],
      "execution_count": 10,
      "outputs": [
        {
          "output_type": "execute_result",
          "data": {
            "text/plain": [
              "3424297"
            ]
          },
          "metadata": {
            "tags": []
          },
          "execution_count": 10
        }
      ]
    },
    {
      "cell_type": "markdown",
      "metadata": {
        "id": "uFM-9FkdEUXq",
        "colab_type": "text"
      },
      "source": [
        "Nosso corpus tem mais de três milhões de palavras. É um número considerável. Agora, vamos criar os dados de treinamento e teste. Isso pode ser feito com a bilbioteca Scikit Learn."
      ]
    },
    {
      "cell_type": "code",
      "metadata": {
        "id": "JjkHqtCkElpo",
        "colab_type": "code",
        "colab": {}
      },
      "source": [
        "X = df.post\n",
        "y = df.tags\n",
        "X_train, X_test, y_train, y_test = train_test_split(X, y, test_size=0.3, random_state = 42)"
      ],
      "execution_count": 0,
      "outputs": []
    },
    {
      "cell_type": "markdown",
      "metadata": {
        "id": "la8EwprXEqfZ",
        "colab_type": "text"
      },
      "source": [
        "Depois de definidos os conjuntos de treinamento e teste, vamos treinar os algorítmos. O primeiro será a regressão logística."
      ]
    },
    {
      "cell_type": "code",
      "metadata": {
        "id": "JPTlv8-XMXBf",
        "colab_type": "code",
        "colab": {
          "base_uri": "https://localhost:8080/",
          "height": 593
        },
        "outputId": "65715006-bbdf-4239-92ec-4572d4dab54d"
      },
      "source": [
        "from sklearn.linear_model import LogisticRegression\n",
        "from sklearn.pipeline import Pipeline\n",
        "from sklearn.feature_extraction.text import TfidfTransformer\n",
        "\n",
        "logreg = Pipeline([('vect', CountVectorizer()),\n",
        "               ('tfidf', TfidfTransformer()),\n",
        "               ('clf', LogisticRegression(n_jobs=1, C=1e5)),\n",
        "              ])\n",
        "logreg.fit(X_train, y_train)\n",
        "\n",
        "# %%time\n",
        "from sklearn.metrics import classification_report\n",
        "y_pred = logreg.predict(X_test)\n",
        "\n",
        "print('accuracy %s' % accuracy_score(y_pred, y_test))\n",
        "print(classification_report(y_test, y_pred,target_names=my_tags))\n",
        "# view raw\n"
      ],
      "execution_count": 14,
      "outputs": [
        {
          "output_type": "stream",
          "text": [
            "/usr/local/lib/python3.6/dist-packages/sklearn/linear_model/logistic.py:432: FutureWarning: Default solver will be changed to 'lbfgs' in 0.22. Specify a solver to silence this warning.\n",
            "  FutureWarning)\n",
            "/usr/local/lib/python3.6/dist-packages/sklearn/linear_model/logistic.py:469: FutureWarning: Default multi_class will be changed to 'auto' in 0.22. Specify the multi_class option to silence this warning.\n",
            "  \"this warning.\", FutureWarning)\n"
          ],
          "name": "stderr"
        },
        {
          "output_type": "stream",
          "text": [
            "accuracy 0.78175\n",
            "               precision    recall  f1-score   support\n",
            "\n",
            "         java       0.70      0.62      0.66       613\n",
            "         html       0.91      0.91      0.91       620\n",
            "      asp.net       0.97      0.94      0.95       587\n",
            "           c#       0.77      0.77      0.77       586\n",
            "ruby-on-rails       0.77      0.81      0.79       599\n",
            "       jquery       0.59      0.58      0.59       589\n",
            "        mysql       0.78      0.75      0.76       594\n",
            "          php       0.82      0.85      0.83       610\n",
            "          ios       0.69      0.71      0.70       617\n",
            "   javascript       0.61      0.59      0.60       587\n",
            "       python       0.64      0.63      0.63       611\n",
            "            c       0.82      0.83      0.83       594\n",
            "          css       0.78      0.78      0.78       619\n",
            "      android       0.84      0.85      0.84       574\n",
            "       iphone       0.80      0.83      0.82       584\n",
            "          sql       0.65      0.64      0.65       578\n",
            "  objective-c       0.82      0.85      0.83       591\n",
            "          c++       0.91      0.91      0.91       608\n",
            "    angularjs       0.96      0.94      0.95       638\n",
            "         .net       0.78      0.83      0.80       601\n",
            "\n",
            "     accuracy                           0.78     12000\n",
            "    macro avg       0.78      0.78      0.78     12000\n",
            " weighted avg       0.78      0.78      0.78     12000\n",
            "\n"
          ],
          "name": "stdout"
        }
      ]
    },
    {
      "cell_type": "code",
      "metadata": {
        "id": "VSh2l1ocTcL8",
        "colab_type": "code",
        "colab": {
          "base_uri": "https://localhost:8080/",
          "height": 503
        },
        "outputId": "13270c2e-0b1a-4bfe-ee09-4c0578f4b7ed"
      },
      "source": [
        "from sklearn.tree import DecisionTreeClassifier\n",
        "dectree = Pipeline([('vect', CountVectorizer()),\n",
        "               ('tfidf', TfidfTransformer()),\n",
        "               ('clf', DecisionTreeClassifier()),\n",
        "              ])\n",
        "\n",
        "dectree.fit(X_train, y_train)\n",
        "y_pred = dectree.predict(X_test)\n",
        "\n",
        "print('accuracy %s' % accuracy_score(y_pred, y_test))\n",
        "print(classification_report(y_test, y_pred,target_names=my_tags))"
      ],
      "execution_count": 15,
      "outputs": [
        {
          "output_type": "stream",
          "text": [
            "accuracy 0.6911666666666667\n",
            "               precision    recall  f1-score   support\n",
            "\n",
            "         java       0.55      0.58      0.56       613\n",
            "         html       0.83      0.77      0.80       620\n",
            "      asp.net       0.91      0.87      0.89       587\n",
            "           c#       0.68      0.65      0.67       586\n",
            "ruby-on-rails       0.69      0.75      0.72       599\n",
            "       jquery       0.43      0.40      0.41       589\n",
            "        mysql       0.59      0.60      0.59       594\n",
            "          php       0.73      0.75      0.74       610\n",
            "          ios       0.57      0.56      0.56       617\n",
            "   javascript       0.52      0.52      0.52       587\n",
            "       python       0.58      0.55      0.56       611\n",
            "            c       0.73      0.76      0.74       594\n",
            "          css       0.68      0.71      0.69       619\n",
            "      android       0.76      0.76      0.76       574\n",
            "       iphone       0.76      0.79      0.78       584\n",
            "          sql       0.58      0.56      0.57       578\n",
            "  objective-c       0.78      0.72      0.75       591\n",
            "          c++       0.86      0.85      0.85       608\n",
            "    angularjs       0.89      0.86      0.88       638\n",
            "         .net       0.71      0.79      0.75       601\n",
            "\n",
            "     accuracy                           0.69     12000\n",
            "    macro avg       0.69      0.69      0.69     12000\n",
            " weighted avg       0.69      0.69      0.69     12000\n",
            "\n"
          ],
          "name": "stdout"
        }
      ]
    },
    {
      "cell_type": "code",
      "metadata": {
        "id": "_aZDaDwbUddz",
        "colab_type": "code",
        "colab": {
          "base_uri": "https://localhost:8080/",
          "height": 503
        },
        "outputId": "1019af78-3216-432f-ca0d-01778fa9d9bd"
      },
      "source": [
        "from sklearn.linear_model import SGDClassifier\n",
        "\n",
        "sgd = Pipeline([('vect', CountVectorizer()),\n",
        "                ('tfidf', TfidfTransformer()),\n",
        "                ('clf', SGDClassifier(loss='hinge', penalty='l2',alpha=1e-3, random_state=42, max_iter=5, tol=None)),\n",
        "               ])\n",
        "sgd.fit(X_train, y_train)\n",
        "\n",
        "y_pred = sgd.predict(X_test)\n",
        "\n",
        "print('accuracy %s' % accuracy_score(y_pred, y_test))\n",
        "print(classification_report(y_test, y_pred,target_names=my_tags))"
      ],
      "execution_count": 16,
      "outputs": [
        {
          "output_type": "stream",
          "text": [
            "accuracy 0.7895833333333333\n",
            "               precision    recall  f1-score   support\n",
            "\n",
            "         java       0.73      0.67      0.70       613\n",
            "         html       0.84      0.94      0.89       620\n",
            "      asp.net       0.88      0.95      0.92       587\n",
            "           c#       0.81      0.80      0.80       586\n",
            "ruby-on-rails       0.73      0.89      0.80       599\n",
            "       jquery       0.77      0.39      0.52       589\n",
            "        mysql       0.81      0.69      0.74       594\n",
            "          php       0.71      0.95      0.81       610\n",
            "          ios       0.83      0.57      0.67       617\n",
            "   javascript       0.72      0.58      0.64       587\n",
            "       python       0.71      0.65      0.68       611\n",
            "            c       0.79      0.88      0.83       594\n",
            "          css       0.77      0.79      0.78       619\n",
            "      android       0.84      0.86      0.85       574\n",
            "       iphone       0.82      0.81      0.81       584\n",
            "          sql       0.70      0.68      0.69       578\n",
            "  objective-c       0.81      0.90      0.85       591\n",
            "          c++       0.84      0.96      0.90       608\n",
            "    angularjs       0.87      0.96      0.91       638\n",
            "         .net       0.78      0.88      0.83       601\n",
            "\n",
            "     accuracy                           0.79     12000\n",
            "    macro avg       0.79      0.79      0.78     12000\n",
            " weighted avg       0.79      0.79      0.78     12000\n",
            "\n"
          ],
          "name": "stdout"
        }
      ]
    }
  ]
}